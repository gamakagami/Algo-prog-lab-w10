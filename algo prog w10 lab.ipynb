{
 "cells": [
  {
   "cell_type": "code",
   "execution_count": 21,
   "metadata": {},
   "outputs": [
    {
     "name": "stdout",
     "output_type": "stream",
     "text": [
      "Length of the first word: 8\n",
      "First word: accuracy\n",
      "Length of the second word: 8\n",
      "Second word: cylinder\n",
      "Both words can be linked with the subword cy\n"
     ]
    }
   ],
   "source": [
    "word1=input(\"enter the 1st word:\")\n",
    "word2=input(\"enter the 2nd word:\")\n",
    "\n",
    "def length1(word):\n",
    "    return len(word)\n",
    "def length2(word):\n",
    "    return len(word)\n",
    "\n",
    "merge = 0\n",
    "\n",
    "for i in range(1, min(len(word1), len(word2)) + 1):\n",
    "    if word1[-i:] == word2[:i]:\n",
    "        merge = word1[-i:]\n",
    "print(\"Length of the first word:\", length1(word1))\n",
    "print(\"First word:\",word1)\n",
    "print(\"Length of the second word:\",length2(word2))\n",
    "print(\"Second word:\",word2)\n",
    "\n",
    "if merge:\n",
    "    print(\"Both words can be linked with the subword\",  str(merge))\n",
    "else:\n",
    "    print(\"The word can't be connected\")"
   ]
  },
  {
   "cell_type": "code",
   "execution_count": 15,
   "metadata": {},
   "outputs": [
    {
     "name": "stdout",
     "output_type": "stream",
     "text": [
      "Input x: 259\n",
      "The smallest beautiful number divisible by 259 is 777\n"
     ]
    }
   ],
   "source": [
    "num = int(input(\"Number: \"))\n",
    "y = 0\n",
    "beautifulNum = num\n",
    "while y == 0:\n",
    "    if beautifulNum%num == 0:\n",
    "        numList = []\n",
    "        for x in str(beautifulNum):\n",
    "            if int(x) in numList:\n",
    "                pass\n",
    "            else:\n",
    "                numList.append(int(x))\n",
    "\n",
    "        if len(numList) == 1:\n",
    "            y += 1\n",
    "            print(\"Input x:\",num)\n",
    "            print(f\"The smallest beautiful number divisible by\",num, \"is\" ,beautifulNum)\n",
    "\n",
    "    beautifulNum += 1"
   ]
  }
 ],
 "metadata": {
  "kernelspec": {
   "display_name": "Python 3",
   "language": "python",
   "name": "python3"
  },
  "language_info": {
   "codemirror_mode": {
    "name": "ipython",
    "version": 3
   },
   "file_extension": ".py",
   "mimetype": "text/x-python",
   "name": "python",
   "nbconvert_exporter": "python",
   "pygments_lexer": "ipython3",
   "version": "3.12.0"
  }
 },
 "nbformat": 4,
 "nbformat_minor": 2
}
